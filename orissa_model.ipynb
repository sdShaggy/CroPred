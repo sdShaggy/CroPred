{
  "cells": [
    {
      "cell_type": "code",
      "execution_count": null,
      "metadata": {
        "id": "k19OIddlKiU_"
      },
      "outputs": [],
      "source": [
        "import pandas as pd\n",
        "import numpy as np\n",
        "from sklearn.model_selection import train_test_split, GridSearchCV\n",
        "from sklearn.preprocessing import StandardScaler\n",
        "from sklearn.metrics import mean_absolute_error, mean_squared_error\n",
        "from xgboost import XGBRegressor\n",
        "import joblib\n",
        "import matplotlib.pyplot as plt\n",
        "import seaborn as sns\n",
        "import shap\n",
        "import tensorflow as tf\n",
        "from tensorflow.keras.models import Sequential\n",
        "from tensorflow.keras.layers import LSTM, Dense, Dropout\n",
        "from tensorflow.keras.callbacks import EarlyStopping\n",
        "from tensorflow.keras.optimizers import Adam\n"
      ]
    },
    {
      "cell_type": "code",
      "execution_count": null,
      "metadata": {
        "id": "zVW5hNv8Kb5P"
      },
      "outputs": [],
      "source": [
        "df = pd.read_csv(\"/content/odisha_mock_data_final.csv\")"
      ]
    },
    {
      "cell_type": "code",
      "execution_count": null,
      "metadata": {
        "id": "BCWX7Lk8KwtW"
      },
      "outputs": [],
      "source": [
        "if 'ph_range' in df.columns:\n",
        "    df['soil_ph'] = df['ph_range'].str.extract(r'(\\d+\\.\\d+).*?(\\d+\\.\\d+)').astype(float).mean(axis=1)\n",
        "    df.drop(columns=['ph_range'], inplace=True)"
      ]
    },
    {
      "cell_type": "code",
      "execution_count": null,
      "metadata": {
        "id": "NItPC5E7RoTo"
      },
      "outputs": [],
      "source": [
        "for col in ['typical_monsoon_onset', 'typical_monsoon_end']:\n",
        "    if col in df.columns:\n",
        "        df[col+'_doy'] = pd.to_datetime(df[col], errors='coerce').dt.dayofyear\n",
        "        df.drop(columns=[col], inplace=True)"
      ]
    },
    {
      "cell_type": "code",
      "execution_count": null,
      "metadata": {
        "id": "HMaWB6NU0HMU"
      },
      "outputs": [],
      "source": [
        "df.fillna(df.mean(numeric_only=True), inplace=True)\n",
        "df.fillna(0, inplace=True)"
      ]
    },
    {
      "cell_type": "code",
      "execution_count": null,
      "metadata": {
        "id": "4_qpWgxOLa48"
      },
      "outputs": [],
      "source": [
        "cat_cols = ['soil_type', 'district', 'season', 'crop']\n",
        "for col in cat_cols:\n",
        "    if col in df.columns:\n",
        "        df = pd.get_dummies(df, columns=[col], drop_first=True)\n",
        "\n"
      ]
    },
    {
      "cell_type": "code",
      "execution_count": null,
      "metadata": {
        "id": "pUx1h47jMNAe"
      },
      "outputs": [],
      "source": [
        "target = 'estimated_yield_kg_per_ha'\n",
        "X = df.drop(columns=[target])\n",
        "y = df[target]\n",
        "\n",
        "features_col = X.columns.tolist()"
      ]
    },
    {
      "cell_type": "code",
      "execution_count": null,
      "metadata": {
        "id": "xUoTK6EBMRFp"
      },
      "outputs": [],
      "source": [
        "scaler = StandardScaler()\n",
        "X_scaled = scaler.fit_transform(X)"
      ]
    },
    {
      "cell_type": "code",
      "execution_count": null,
      "metadata": {
        "id": "4RNn8JjqMURr"
      },
      "outputs": [],
      "source": [
        "X_train, X_test, y_train, y_test = train_test_split(X_scaled, y, test_size=0.2, random_state=42)"
      ]
    },
    {
      "cell_type": "code",
      "execution_count": null,
      "metadata": {
        "id": "5E3B7NuDMX8h"
      },
      "outputs": [],
      "source": [
        "# -------- Initial XGBoost to get feature importance --------\n",
        "xgb_base = XGBRegressor(random_state=42, tree_method='hist')\n",
        "xgb_base.fit(X_train, y_train)\n",
        "\n",
        "importance = xgb_base.feature_importances_\n",
        "feature_names = X.columns\n",
        "print(f\"Feature Importance:{feature_names}\")\n",
        "print(f\"Importance:{importance}\")\n",
        "\n",
        "fi_df = pd.DataFrame({'feature': feature_names, 'importance': importance})\n",
        "fi_df = fi_df.sort_values(by='importance', ascending=False)"
      ]
    },
    {
      "cell_type": "code",
      "execution_count": null,
      "metadata": {
        "id": "WBAiqPtHNZHE"
      },
      "outputs": [],
      "source": [
        "low_importance_features = fi_df[fi_df['importance'] < 0.0000003]['feature'].tolist()\n",
        "print(f\"Dropping {len(low_importance_features)} low importance features.\")"
      ]
    },
    {
      "cell_type": "code",
      "execution_count": null,
      "metadata": {
        "id": "1llCF_64M4RQ"
      },
      "outputs": [],
      "source": [
        "X_reduced = df.drop(columns=low_importance_features + [target])\n",
        "X_reduced_scaled = scaler.fit_transform(X_reduced)\n",
        "X_reduced_scaled_df = pd.DataFrame(X_reduced_scaled, columns=X_reduced.columns)"
      ]
    },
    {
      "cell_type": "code",
      "execution_count": null,
      "metadata": {
        "id": "5vMa4FuONTUV"
      },
      "outputs": [],
      "source": [
        "X_train_r, X_test_r, y_train_r, y_test_r = train_test_split(\n",
        "    X_reduced_scaled_df, y, test_size=0.2, random_state=42\n",
        ")\n",
        "\n",
        "features_col_r = X_train_r.columns.tolist()\n",
        "\n",
        "param_grid = {\n",
        "    'n_estimators': [100, 200],\n",
        "    'max_depth': [4, 6, 8],\n",
        "    'learning_rate': [0.01, 0.05, 0.1],\n",
        "    'subsample': [0.8, 1.0],\n",
        "    'colsample_bytree': [0.8, 1.0]\n",
        "}"
      ]
    },
    {
      "cell_type": "code",
      "execution_count": null,
      "metadata": {
        "id": "1VAOac6wNqp1"
      },
      "outputs": [],
      "source": [
        "xgb = XGBRegressor(\n",
        "    random_state=42,\n",
        "    tree_method='hist',  # CPU only\n",
        "    n_estimators=200,\n",
        "    max_depth=6,\n",
        "    learning_rate=0.05,\n",
        "    subsample=0.8,\n",
        "    colsample_bytree=0.8\n",
        ")\n",
        "grid_search = GridSearchCV(xgb, param_grid, cv=3, scoring='neg_mean_absolute_error', verbose=1, n_jobs=-1)\n",
        "grid_search.fit(X_train_r, y_train_r)\n",
        "\n",
        "print(f\"Best Params: {grid_search.best_params_}\")\n",
        "best_xgb = grid_search.best_estimator_"
      ]
    },
    {
      "cell_type": "code",
      "execution_count": null,
      "metadata": {
        "id": "N-olhdO2T1Nb"
      },
      "outputs": [],
      "source": [
        "y_pred_xgb = best_xgb.predict(X_test_r)\n",
        "mae = mean_absolute_error(y_test_r, y_pred_xgb)\n",
        "rmse = np.sqrt(mean_squared_error(y_test_r, y_pred_xgb))\n",
        "percentage_errors = np.abs((y_test_r - y_pred_xgb) / y_test_r) * 100\n",
        "mape = np.mean(percentage_errors)\n",
        "print(f\"XGBoost Performance:\\nMAE: {mae:.2f}\\nRMSE: {rmse:.2f}\\nMAPE: {mape:.2f}%\")"
      ]
    },
    {
      "cell_type": "code",
      "execution_count": null,
      "metadata": {
        "id": "ITtiECrPT3kk"
      },
      "outputs": [],
      "source": [
        "explainer = shap.Explainer(best_xgb)\n",
        "shap_values = explainer(X_test_r)\n",
        "X_test_df = pd.DataFrame(X_test_r, columns=X_reduced.columns)\n",
        "shap.summary_plot(shap_values, features=X_test_df, feature_names=X_reduced.columns)"
      ]
    },
    {
      "cell_type": "code",
      "execution_count": null,
      "metadata": {
        "id": "HW9efwZ_UWKK"
      },
      "outputs": [],
      "source": [
        "# For LSTM, reshape input to 3D (samples, timesteps=1, features)\n",
        "\n",
        "X_train_r, X_test_r, y_train_r, y_test_r = train_test_split(\n",
        "    X_reduced_scaled, y, test_size=0.2, random_state=42\n",
        ")\n",
        "\n",
        "X_train_lstm = X_train_r.reshape((X_train_r.shape[0], 1, X_train_r.shape[1]))\n",
        "X_test_lstm = X_test_r.reshape((X_test_r.shape[0], 1, X_test_r.shape[1]))\n",
        "\n",
        "lstm_model = Sequential()\n",
        "lstm_model.add(LSTM(64, input_shape=(1, X_train_r.shape[1]), return_sequences=False))\n",
        "lstm_model.add(Dropout(0.2))\n",
        "lstm_model.add(Dense(32, activation='relu'))\n",
        "lstm_model.add(Dense(1))\n",
        "lstm_model.compile(optimizer=Adam(learning_rate=0.001), loss='mean_absolute_error')\n",
        "\n",
        "early_stop = EarlyStopping(monitor='val_loss', patience=10, restore_best_weights=True)\n"
      ]
    },
    {
      "cell_type": "code",
      "execution_count": null,
      "metadata": {
        "id": "VKdNXhCzUEEh"
      },
      "outputs": [],
      "source": [
        "history = lstm_model.fit(\n",
        "    X_train_lstm, y_train_r,\n",
        "    validation_split=0.2,\n",
        "    epochs=100,\n",
        "    batch_size=32,\n",
        "    callbacks=[early_stop],\n",
        "    verbose=1\n",
        ")"
      ]
    },
    {
      "cell_type": "code",
      "execution_count": null,
      "metadata": {
        "id": "cYSTg3_YUIDh"
      },
      "outputs": [],
      "source": [
        "y_pred_lstm = lstm_model.predict(X_test_lstm).flatten()\n",
        "mae_lstm = mean_absolute_error(y_test_r, y_pred_lstm)\n",
        "rmse_lstm = np.sqrt(mean_squared_error(y_test_r, y_pred_lstm))\n",
        "percentage_errors = np.abs((y_test_r - y_pred_lstm) / y_test_r) * 100\n",
        "mape = np.mean(percentage_errors)\n",
        "print(f\"LSTM Performance:\\nMAE: {mae_lstm:.2f}\\nRMSE: {rmse_lstm:.2f}\\nMAPE: {mape:.2f}%\")"
      ]
    },
    {
      "cell_type": "code",
      "execution_count": null,
      "metadata": {
        "id": "yWX-oVzSUKkc"
      },
      "outputs": [],
      "source": [
        "plt.figure(figsize=(10,5))\n",
        "plt.plot(history.history['loss'], label='train_loss')\n",
        "plt.plot(history.history['val_loss'], label='val_loss')\n",
        "plt.title('LSTM Training Loss')\n",
        "plt.xlabel('Epoch')\n",
        "plt.ylabel('MAE Loss')\n",
        "plt.legend()\n",
        "plt.show()"
      ]
    },
    {
      "cell_type": "code",
      "execution_count": null,
      "metadata": {
        "id": "HFNE6dOLSsPx"
      },
      "outputs": [],
      "source": [
        "mock_input = np.zeros((1, X_reduced.shape[1]))\n",
        "# Example: set year, ndvi, soil_ph etc. to realistic values — adapt as needed\n",
        "for feature in ['year', 'ndvi.early', 'ndvi.mid', 'ndvi.late', 'soil_ph']:\n",
        "    if feature in X_reduced.columns:\n",
        "        mock_input[0, X_reduced.columns.get_loc(feature)] = 2025 if feature == 'year' else 0.5\n",
        "\n",
        "mock_input_scaled = scaler.transform(mock_input)"
      ]
    },
    {
      "cell_type": "code",
      "execution_count": null,
      "metadata": {
        "id": "99ExImROS4ff"
      },
      "outputs": [],
      "source": [
        "mock_pred_xgb = best_xgb.predict(mock_input_scaled)\n",
        "print(f\"XGBoost predicted yield (kg/ha): {mock_pred_xgb[0]:.2f}\")\n",
        "\n",
        "mock_input_lstm = mock_input_scaled.reshape((1, 1, mock_input_scaled.shape[1]))\n",
        "mock_pred_lstm = lstm_model.predict(mock_input_lstm).flatten()[0]\n",
        "print(f\"LSTM predicted yield (kg/ha): {mock_pred_lstm:.2f}\")"
      ]
    },
    {
      "cell_type": "code",
      "execution_count": null,
      "metadata": {
        "id": "DLEYnQMNTDH5"
      },
      "outputs": [],
      "source": [
        "import joblib"
      ]
    },
    {
      "cell_type": "code",
      "execution_count": null,
      "metadata": {
        "id": "xgmRD43vUxNd"
      },
      "outputs": [],
      "source": [
        "joblib.dump(best_xgb, 'xgb_model.joblib')\n",
        "joblib.dump(lstm_model, 'lstm_model.joblib')\n",
        "joblib.dump(scaler, 'scaler.joblib')\n",
        "joblib.dump(features_col_r, 'feature_columns_r.joblib')"
      ]
    },
    {
      "cell_type": "code",
      "execution_count": null,
      "metadata": {
        "id": "dfOWUQegVCWu"
      },
      "outputs": [],
      "source": [
        "from google.colab import files\n",
        "files.download(\"xgb_model.joblib\")\n",
        "files.download(\"lstm_model.joblib\")\n",
        "files.download(\"scaler.joblib\")\n",
        "files.download(\"feature_columns_r.joblib\")"
      ]
    },
    {
      "cell_type": "code",
      "execution_count": null,
      "metadata": {
        "id": "qN8mjC__929w"
      },
      "outputs": [],
      "source": [
        "DISTRICT_DEFAULTS = {\n",
        "    \"angul\": {\"annual_avg_rainfall_mm\": 1450, \"monsoon_rainfall_mm\": 1150, \"avg_annual_temp_C\": 26,\n",
        "              \"avg_max_temp_C\": 33, \"avg_min_temp_C\": 21, \"avg_relative_humidity_pct\": 77,\n",
        "              \"ndvi.early\": 0.51, \"ndvi.mid\": 0.65, \"ndvi.late\": 0.60,\n",
        "              \"organic_carbon\": 0.75, \"nitrogen_kg_per_ha\": 65, \"phosphorus_kg_per_ha\": 32,\n",
        "              \"potassium_kg_per_ha\": 42},\n",
        "    \"balangir\": {\"annual_avg_rainfall_mm\": 1300, \"monsoon_rainfall_mm\": 1050, \"avg_annual_temp_C\": 27,\n",
        "                 \"avg_max_temp_C\": 34, \"avg_min_temp_C\": 22, \"avg_relative_humidity_pct\": 72,\n",
        "                 \"ndvi.early\": 0.48, \"ndvi.mid\": 0.62, \"ndvi.late\": 0.58,\n",
        "                 \"organic_carbon\": 0.70, \"nitrogen_kg_per_ha\": 60, \"phosphorus_kg_per_ha\": 30,\n",
        "                 \"potassium_kg_per_ha\": 40},\n",
        "    \"balasore\": {\"annual_avg_rainfall_mm\": 1500, \"monsoon_rainfall_mm\": 1200, \"avg_annual_temp_C\": 27,\n",
        "                 \"avg_max_temp_C\": 35, \"avg_min_temp_C\": 22, \"avg_relative_humidity_pct\": 78,\n",
        "                 \"ndvi.early\": 0.50, \"ndvi.mid\": 0.64, \"ndvi.late\": 0.61,\n",
        "                 \"organic_carbon\": 0.72, \"nitrogen_kg_per_ha\": 62, \"phosphorus_kg_per_ha\": 31,\n",
        "                 \"potassium_kg_per_ha\": 43},\n",
        "    \"bargarh\": {\"annual_avg_rainfall_mm\": 1250, \"monsoon_rainfall_mm\": 1000, \"avg_annual_temp_C\": 26,\n",
        "                \"avg_max_temp_C\": 33, \"avg_min_temp_C\": 21, \"avg_relative_humidity_pct\": 70,\n",
        "                \"ndvi.early\": 0.47, \"ndvi.mid\": 0.61, \"ndvi.late\": 0.57,\n",
        "                \"organic_carbon\": 0.68, \"nitrogen_kg_per_ha\": 58, \"phosphorus_kg_per_ha\": 29,\n",
        "                \"potassium_kg_per_ha\": 39},\n",
        "    \"bhadrak\": {\"annual_avg_rainfall_mm\": 1400, \"monsoon_rainfall_mm\": 1100, \"avg_annual_temp_C\": 27,\n",
        "                \"avg_max_temp_C\": 34, \"avg_min_temp_C\": 22, \"avg_relative_humidity_pct\": 74,\n",
        "                \"ndvi.early\": 0.49, \"ndvi.mid\": 0.63, \"ndvi.late\": 0.59,\n",
        "                \"organic_carbon\": 0.71, \"nitrogen_kg_per_ha\": 61, \"phosphorus_kg_per_ha\": 30,\n",
        "                \"potassium_kg_per_ha\": 41},\n",
        "    \"boudh\": {\"annual_avg_rainfall_mm\": 1200, \"monsoon_rainfall_mm\": 950, \"avg_annual_temp_C\": 25,\n",
        "              \"avg_max_temp_C\": 32, \"avg_min_temp_C\": 20, \"avg_relative_humidity_pct\": 68,\n",
        "              \"ndvi.early\": 0.46, \"ndvi.mid\": 0.60, \"ndvi.late\": 0.55,\n",
        "              \"organic_carbon\": 0.67, \"nitrogen_kg_per_ha\": 57, \"phosphorus_kg_per_ha\": 28,\n",
        "              \"potassium_kg_per_ha\": 38},\n",
        "    \"cuttack\": {\"annual_avg_rainfall_mm\": 1450, \"monsoon_rainfall_mm\": 1150, \"avg_annual_temp_C\": 27,\n",
        "                \"avg_max_temp_C\": 34, \"avg_min_temp_C\": 22, \"avg_relative_humidity_pct\": 76,\n",
        "                \"ndvi.early\": 0.51, \"ndvi.mid\": 0.65, \"ndvi.late\": 0.61,\n",
        "                \"organic_carbon\": 0.74, \"nitrogen_kg_per_ha\": 64, \"phosphorus_kg_per_ha\": 32,\n",
        "                \"potassium_kg_per_ha\": 42},\n",
        "    \"deogarh\": {\"annual_avg_rainfall_mm\": 1300, \"monsoon_rainfall_mm\": 1050, \"avg_annual_temp_C\": 26,\n",
        "                \"avg_max_temp_C\": 33, \"avg_min_temp_C\": 21, \"avg_relative_humidity_pct\": 71,\n",
        "                \"ndvi.early\": 0.48, \"ndvi.mid\": 0.62, \"ndvi.late\": 0.58,\n",
        "                \"organic_carbon\": 0.70, \"nitrogen_kg_per_ha\": 60, \"phosphorus_kg_per_ha\": 30,\n",
        "                \"potassium_kg_per_ha\": 40},\n",
        "    \"dhenkanal\": {\"annual_avg_rainfall_mm\": 1350, \"monsoon_rainfall_mm\": 1100, \"avg_annual_temp_C\": 26,\n",
        "                  \"avg_max_temp_C\": 34, \"avg_min_temp_C\": 21, \"avg_relative_humidity_pct\": 73,\n",
        "                  \"ndvi.early\": 0.49, \"ndvi.mid\": 0.63, \"ndvi.late\": 0.59,\n",
        "                  \"organic_carbon\": 0.71, \"nitrogen_kg_per_ha\": 61, \"phosphorus_kg_per_ha\": 31,\n",
        "                  \"potassium_kg_per_ha\": 41},\n",
        "    \"gajapati\": {\"annual_avg_rainfall_mm\": 1250, \"monsoon_rainfall_mm\": 1000, \"avg_annual_temp_C\": 25,\n",
        "                 \"avg_max_temp_C\": 32, \"avg_min_temp_C\": 20, \"avg_relative_humidity_pct\": 69,\n",
        "                 \"ndvi.early\": 0.46, \"ndvi.mid\": 0.60, \"ndvi.late\": 0.56,\n",
        "                 \"organic_carbon\": 0.68, \"nitrogen_kg_per_ha\": 58, \"phosphorus_kg_per_ha\": 29,\n",
        "                 \"potassium_kg_per_ha\": 39},\n",
        "    \"ganjam\": {\"annual_avg_rainfall_mm\": 1400, \"monsoon_rainfall_mm\": 1150, \"avg_annual_temp_C\": 27,\n",
        "               \"avg_max_temp_C\": 34, \"avg_min_temp_C\": 22, \"avg_relative_humidity_pct\": 75,\n",
        "               \"ndvi.early\": 0.50, \"ndvi.mid\": 0.64, \"ndvi.late\": 0.61,\n",
        "               \"organic_carbon\": 0.73, \"nitrogen_kg_per_ha\": 63, \"phosphorus_kg_per_ha\": 32,\n",
        "               \"potassium_kg_per_ha\": 42},\n",
        "    \"jagatsinghpur\": {\"annual_avg_rainfall_mm\": 1450, \"monsoon_rainfall_mm\": 1150, \"avg_annual_temp_C\": 27,\n",
        "                      \"avg_max_temp_C\": 34, \"avg_min_temp_C\": 22, \"avg_relative_humidity_pct\": 76,\n",
        "                      \"ndvi.early\": 0.51, \"ndvi.mid\": 0.65, \"ndvi.late\": 0.62,\n",
        "                      \"organic_carbon\": 0.74, \"nitrogen_kg_per_ha\": 64, \"phosphorus_kg_per_ha\": 32,\n",
        "                      \"potassium_kg_per_ha\": 42},\n",
        "    \"jajpur\": {\"annual_avg_rainfall_mm\": 1400, \"monsoon_rainfall_mm\": 1100, \"avg_annual_temp_C\": 27,\n",
        "               \"avg_max_temp_C\": 34, \"avg_min_temp_C\": 22, \"avg_relative_humidity_pct\": 74,\n",
        "               \"ndvi.early\": 0.50, \"ndvi.mid\": 0.64, \"ndvi.late\": 0.60,\n",
        "               \"organic_carbon\": 0.72, \"nitrogen_kg_per_ha\": 62, \"phosphorus_kg_per_ha\": 31,\n",
        "               \"potassium_kg_per_ha\": 41},\n",
        "    \"kalahandi\": {\"annual_avg_rainfall_mm\": 1200, \"monsoon_rainfall_mm\": 950, \"avg_annual_temp_C\": 25,\n",
        "                  \"avg_max_temp_C\": 32, \"avg_min_temp_C\": 20, \"avg_relative_humidity_pct\": 68,\n",
        "                  \"ndvi.early\": 0.46, \"ndvi.mid\": 0.60, \"ndvi.late\": 0.55,\n",
        "                  \"organic_carbon\": 0.67, \"nitrogen_kg_per_ha\": 57, \"phosphorus_kg_per_ha\": 28,\n",
        "                  \"potassium_kg_per_ha\": 38},\n",
        "    \"kandhamal\": {\"annual_avg_rainfall_mm\": 1350, \"monsoon_rainfall_mm\": 1100, \"avg_annual_temp_C\": 26,\n",
        "                  \"avg_max_temp_C\": 33, \"avg_min_temp_C\": 21, \"avg_relative_humidity_pct\": 72,\n",
        "                  \"ndvi.early\": 0.48, \"ndvi.mid\": 0.62, \"ndvi.late\": 0.59,\n",
        "                  \"organic_carbon\": 0.70, \"nitrogen_kg_per_ha\": 60, \"phosphorus_kg_per_ha\": 30,\n",
        "                  \"potassium_kg_per_ha\": 40},\n",
        "    \"kendrapara\": {\"annual_avg_rainfall_mm\": 1450, \"monsoon_rainfall_mm\": 1150, \"avg_annual_temp_C\": 27,\n",
        "                   \"avg_max_temp_C\": 34, \"avg_min_temp_C\": 22, \"avg_relative_humidity_pct\": 76,\n",
        "                   \"ndvi.early\": 0.51, \"ndvi.mid\": 0.65, \"ndvi.late\": 0.62,\n",
        "                   \"organic_carbon\": 0.74, \"nitrogen_kg_per_ha\": 64, \"phosphorus_kg_per_ha\": 32,\n",
        "                   \"potassium_kg_per_ha\": 42},\n",
        "    \"kendujhar\": {\"annual_avg_rainfall_mm\": 1300, \"monsoon_rainfall_mm\": 1050, \"avg_annual_temp_C\": 26,\n",
        "                  \"avg_max_temp_C\": 33, \"avg_min_temp_C\": 21, \"avg_relative_humidity_pct\": 71,\n",
        "                  \"ndvi.early\": 0.48, \"ndvi.mid\": 0.62, \"ndvi.late\": 0.58,\n",
        "                  \"organic_carbon\": 0.70, \"nitrogen_kg_per_ha\": 60, \"phosphorus_kg_per_ha\": 30,\n",
        "                  \"potassium_kg_per_ha\": 40},\n",
        "    \"khordha\": {\"annual_avg_rainfall_mm\": 1400, \"monsoon_rainfall_mm\": 1150, \"avg_annual_temp_C\": 27,\n",
        "                \"avg_max_temp_C\": 34, \"avg_min_temp_C\": 22, \"avg_relative_humidity_pct\": 75,\n",
        "                \"ndvi.early\": 0.50, \"ndvi.mid\": 0.64, \"ndvi.late\": 0.61,\n",
        "                \"organic_carbon\": 0.73, \"nitrogen_kg_per_ha\": 63, \"phosphorus_kg_per_ha\": 32,\n",
        "                \"potassium_kg_per_ha\": 42},\n",
        "    \"koraput\": {\"annual_avg_rainfall_mm\": 1250, \"monsoon_rainfall_mm\": 1000, \"avg_annual_temp_C\": 25,\n",
        "                \"avg_max_temp_C\": 32, \"avg_min_temp_C\": 20, \"avg_relative_humidity_pct\": 69,\n",
        "                \"ndvi.early\": 0.46, \"ndvi.mid\": 0.60, \"ndvi.late\": 0.56,\n",
        "                \"organic_carbon\": 0.68, \"nitrogen_kg_per_ha\": 58, \"phosphorus_kg_per_ha\": 29,\n",
        "                \"potassium_kg_per_ha\": 39},\n",
        "    \"malkangiri\": {\"annual_avg_rainfall_mm\": 1200, \"monsoon_rainfall_mm\": 950, \"avg_annual_temp_C\": 25,\n",
        "                   \"avg_max_temp_C\": 32, \"avg_min_temp_C\": 20, \"avg_relative_humidity_pct\": 68,\n",
        "                   \"ndvi.early\": 0.45, \"ndvi.mid\": 0.59, \"ndvi.late\": 0.55,\n",
        "                   \"organic_carbon\": 0.66, \"nitrogen_kg_per_ha\": 56, \"phosphorus_kg_per_ha\": 28,\n",
        "                   \"potassium_kg_per_ha\": 38},\n",
        "    \"mayurbhanj\": {\"annual_avg_rainfall_mm\": 1300, \"monsoon_rainfall_mm\": 1050, \"avg_annual_temp_C\": 26,\n",
        "                   \"avg_max_temp_C\": 33, \"avg_min_temp_C\": 21, \"avg_relative_humidity_pct\": 72,\n",
        "                   \"ndvi.early\": 0.48, \"ndvi.mid\": 0.62, \"ndvi.late\": 0.58,\n",
        "                   \"organic_carbon\": 0.70, \"nitrogen_kg_per_ha\": 60, \"phosphorus_kg_per_ha\": 30,\n",
        "                   \"potassium_kg_per_ha\": 40},\n",
        "    \"nayagarh\": {\"annual_avg_rainfall_mm\": 1350, \"monsoon_rainfall_mm\": 1100, \"avg_annual_temp_C\": 26,\n",
        "                 \"avg_max_temp_C\": 33, \"avg_min_temp_C\": 21, \"avg_relative_humidity_pct\": 73,\n",
        "                 \"ndvi.early\": 0.49, \"ndvi.mid\": 0.63, \"ndvi.late\": 0.59,\n",
        "                 \"organic_carbon\": 0.71, \"nitrogen_kg_per_ha\": 61, \"phosphorus_kg_per_ha\": 31,\n",
        "                 \"potassium_kg_per_ha\": 41},\n",
        "    \"nuapada\": {\"annual_avg_rainfall_mm\": 1200, \"monsoon_rainfall_mm\": 950, \"avg_annual_temp_C\": 25,\n",
        "                \"avg_max_temp_C\": 32, \"avg_min_temp_C\": 20, \"avg_relative_humidity_pct\": 68,\n",
        "                \"ndvi.early\": 0.46, \"ndvi.mid\": 0.60, \"ndvi.late\": 0.55,\n",
        "                \"organic_carbon\": 0.67, \"nitrogen_kg_per_ha\": 57, \"phosphorus_kg_per_ha\": 28,\n",
        "                \"potassium_kg_per_ha\": 38},\n",
        "    \"puri\": {\"annual_avg_rainfall_mm\": 1450, \"monsoon_rainfall_mm\": 1150, \"avg_annual_temp_C\":\n"
      ]
    }
  ],
  "metadata": {
    "colab": {
      "provenance": []
    },
    "kernelspec": {
      "display_name": "Python 3",
      "name": "python3"
    },
    "language_info": {
      "name": "python"
    }
  },
  "nbformat": 4,
  "nbformat_minor": 0
}
